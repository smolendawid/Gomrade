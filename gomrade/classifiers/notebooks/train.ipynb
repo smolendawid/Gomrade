{
 "cells": [
  {
   "cell_type": "code",
   "execution_count": 5,
   "metadata": {},
   "outputs": [],
   "source": [
    "import os\n",
    "import numpy as np\n",
    "import cv2\n",
    "import tqdm\n",
    "import seaborn as sns\n",
    "import matplotlib.pylab as plt\n",
    "from keras.utils import to_categorical\n"
   ]
  },
  {
   "cell_type": "code",
   "execution_count": 6,
   "metadata": {},
   "outputs": [],
   "source": [
    "\n",
    "def collect_examples(images_path: str) -> [[]]:\n",
    "    \"\"\"\n",
    "    :param images_path: Path to data main directory. Should have 2 dir levels - each game\n",
    "    should have images in its own dir\n",
    "    :return: filename, source name, list with board points\n",
    "    \"\"\"\n",
    "    all_examples = []\n",
    "    all_sources = []\n",
    "\n",
    "    dirs = [os.path.join(images_path, d) for d in os.listdir(images_path)\n",
    "            if os.path.isdir(os.path.join(images_path, d))]\n",
    "\n",
    "    for d in dirs:\n",
    "        files = [os.path.join(d, f) for f in os.listdir(d) if f.endswith('.png') or f.endswith('.jpg') or f.endswith('.JPG')]\n",
    "        files.sort()\n",
    "\n",
    "        for f in files:\n",
    "            all_examples.append(f)\n",
    "            all_sources.append(d)\n",
    "\n",
    "    return np.array(all_examples), np.array(all_sources)\n"
   ]
  },
  {
   "cell_type": "code",
   "execution_count": 7,
   "metadata": {},
   "outputs": [],
   "source": [
    "import matplotlib\n",
    "# Specifying the backend to be used before importing pyplot\n",
    "# to avoid \"RuntimeError: Invalid DISPLAY variable\"\n",
    "matplotlib.use('agg')\n",
    "import matplotlib.pyplot as plt\n",
    "import keras\n",
    "import numpy as np\n",
    "\n",
    "class TrainingPlot(keras.callbacks.Callback):\n",
    "\n",
    "    # This function is called when the training begins\n",
    "    def on_train_begin(self, logs={}):\n",
    "        # Initialize the lists for holding the logs, losses and accuracies\n",
    "        self.losses = []\n",
    "        self.acc = []\n",
    "        self.val_losses = []\n",
    "        self.val_acc = []\n",
    "        self.logs = []\n",
    "\n",
    "    # This function is called at the end of each epoch\n",
    "    def on_epoch_end(self, epoch, logs={}):\n",
    "\n",
    "        # Append the logs, losses and accuracies to the lists\n",
    "        self.logs.append(logs)\n",
    "        self.losses.append(logs.get('loss'))\n",
    "        self.acc.append(logs.get('acc'))\n",
    "        self.val_losses.append(logs.get('val_loss'))\n",
    "        self.val_acc.append(logs.get('val_acc'))\n",
    "\n",
    "        # Before plotting ensure at least 2 epochs have passed\n",
    "        if len(self.losses) > 1:\n",
    "\n",
    "            N = np.arange(0, len(self.losses))\n",
    "\n",
    "            # You can chose the style of your preference\n",
    "            # print(plt.style.available) to see the available options\n",
    "            #plt.style.use(\"seaborn\")\n",
    "\n",
    "            # Plot train loss, train acc, val loss and val acc against epochs passed\n",
    "            plt.figure()\n",
    "            plt.plot(N, self.losses, label = \"train_loss\")\n",
    "            plt.plot(N, self.acc, label = \"train_acc\")\n",
    "            plt.plot(N, self.val_losses, label = \"val_loss\")\n",
    "            plt.plot(N, self.val_acc, label = \"val_acc\")\n",
    "            plt.title(\"Training Loss and Accuracy [Epoch {}]\".format(epoch))\n",
    "            plt.xlabel(\"Epoch #\")\n",
    "            plt.ylabel(\"Loss/Accuracy\")\n",
    "            plt.legend()\n",
    "            # Make sure there exists a folder called output in the current directory\n",
    "            # or replace 'output' with whatever direcory you want to put in the plots\n",
    "            plt.savefig('output/Epoch-{}.png'.format(epoch))\n",
    "            plt.close()"
   ]
  },
  {
   "cell_type": "code",
   "execution_count": 8,
   "metadata": {},
   "outputs": [],
   "source": [
    "root = '../../../data/dataset_yolo/'\n",
    "examples = collect_examples(root)"
   ]
  },
  {
   "cell_type": "code",
   "execution_count": 9,
   "metadata": {},
   "outputs": [],
   "source": [
    "data = np.zeros((len(examples[0]),66,66,3), dtype=np.float32)\n",
    "labels = np.zeros((len(examples[0],)), dtype=np.int8)\n",
    "\n",
    "# for i, example in enumerate(tqdm.tqdm(examples[0])):\n",
    "for i, example in enumerate(examples[0]):\n",
    "    image = cv2.imread(example)\n",
    "    data[i] = image\n",
    "    with open(example[:-4] + '.txt') as f:\n",
    "        cl = int(f.read())\n",
    "    labels[i] = cl\n",
    "    if i == 20000:\n",
    "        break\n",
    "    "
   ]
  },
  {
   "cell_type": "code",
   "execution_count": 10,
   "metadata": {},
   "outputs": [],
   "source": [
    "labels = to_categorical(labels)"
   ]
  },
  {
   "cell_type": "code",
   "execution_count": 11,
   "metadata": {},
   "outputs": [],
   "source": [
    "x_train = data[:19000]\n",
    "x_test = data[19000:]\n",
    "y_train = labels[:19000]\n",
    "y_test = labels[19000:]"
   ]
  },
  {
   "cell_type": "code",
   "execution_count": 12,
   "metadata": {},
   "outputs": [
    {
     "name": "stdout",
     "output_type": "stream",
     "text": [
      "Num classes: 3\n",
      "x_train shape: (19000, 66, 66, 3)\n",
      "Number of images in x_train 19000\n",
      "Number of images in x_test 235505\n"
     ]
    }
   ],
   "source": [
    "img_wh = 66\n",
    "num_channels = 3\n",
    "input_shape = (img_wh, img_wh, num_channels)\n",
    "num_classes = labels.shape[1]\n",
    "print(\"Num classes: {}\".format(num_classes))\n",
    "\n",
    "# Reshaping the array to 4-dims so that it can work with the Keras API\n",
    "x_train = x_train.reshape(x_train.shape[0], img_wh, img_wh, num_channels)\n",
    "x_test = x_test.reshape(x_test.shape[0], img_wh, img_wh, num_channels)\n",
    "# Making sure that the values are float so that we can get decimal points after division\n",
    "x_train = x_train.astype('float32')\n",
    "x_test = x_test.astype('float32')\n",
    "# Normalizing the RGB codes by dividing it to the max RGB value.\n",
    "x_train /= 255\n",
    "x_test /= 255\n",
    "print('x_train shape:', x_train.shape)\n",
    "print('Number of images in x_train', x_train.shape[0])\n",
    "print('Number of images in x_test', x_test.shape[0])"
   ]
  },
  {
   "cell_type": "code",
   "execution_count": 13,
   "metadata": {},
   "outputs": [
    {
     "data": {
      "text/plain": [
       "<matplotlib.axes._subplots.AxesSubplot at 0x14904b150>"
      ]
     },
     "execution_count": 13,
     "metadata": {},
     "output_type": "execute_result"
    }
   ],
   "source": [
    "sns.countplot(np.argmax(y_train, axis=1))\n"
   ]
  },
  {
   "cell_type": "code",
   "execution_count": 14,
   "metadata": {},
   "outputs": [],
   "source": [
    "from sklearn.utils import class_weight\n",
    "class_weights = class_weight.compute_class_weight('balanced',\n",
    "                                                 np.unique(np.argmax(y_train, axis=1)),\n",
    "                                                 np.argmax(y_train, axis=1))"
   ]
  },
  {
   "cell_type": "code",
   "execution_count": 19,
   "metadata": {},
   "outputs": [
    {
     "name": "stdout",
     "output_type": "stream",
     "text": [
      "_________________________________________________________________\n",
      "Layer (type)                 Output Shape              Param #   \n",
      "=================================================================\n",
      "conv2d_5 (Conv2D)            (None, 64, 64, 66)        1848      \n",
      "_________________________________________________________________\n",
      "max_pooling2d_5 (MaxPooling2 (None, 32, 32, 66)        0         \n",
      "_________________________________________________________________\n",
      "flatten_5 (Flatten)          (None, 67584)             0         \n",
      "_________________________________________________________________\n",
      "dense_9 (Dense)              (None, 128)               8650880   \n",
      "_________________________________________________________________\n",
      "dropout_5 (Dropout)          (None, 128)               0         \n",
      "_________________________________________________________________\n",
      "dense_10 (Dense)             (None, 3)                 387       \n",
      "=================================================================\n",
      "Total params: 8,653,115\n",
      "Trainable params: 8,653,115\n",
      "Non-trainable params: 0\n",
      "_________________________________________________________________\n"
     ]
    }
   ],
   "source": [
    "# Importing the required Keras modules containing model and layers\n",
    "from keras.models import Sequential\n",
    "from keras.layers import Dense, Conv2D, Dropout, Flatten, MaxPooling2D\n",
    "from keras.optimizers import Adam\n",
    "import tensorflow as tf\n",
    "\n",
    "def base_model(img_w, img_h, input_shape, num_classes):\n",
    "\n",
    "    model = Sequential()\n",
    "    model.add(Conv2D(img_w, (3, 3), padding='same', activation='relu', input_shape=x_train.shape[1:]))\n",
    "    model.add(Conv2D(img_w,(3, 3), activation='relu'))\n",
    "    model.add(MaxPooling2D(pool_size=(2, 2)))\n",
    "    model.add(Dropout(0.25))\n",
    "\n",
    "    model.add(Conv2D(img_w*2, (3, 3), padding='same', activation='relu'))\n",
    "    model.add(Conv2D(img_w*2, (3,3), activation='relu'))\n",
    "    model.add(MaxPooling2D(pool_size=(2, 2)))\n",
    "    model.add(Dropout(0.25))\n",
    "\n",
    "    model.add(Flatten())\n",
    "    model.add(Dense(512, activation='relu'))\n",
    "    model.add(Dropout(0.5))\n",
    "    model.add(Dense(num_classes, activation='softmax'))\n",
    "    \n",
    "    return model\n",
    "\n",
    "def base_model(img_w, img_h, input_shape, num_classes):\n",
    "    model = Sequential()\n",
    "    model.add(Conv2D(img_wh, kernel_size=(3,3), input_shape=input_shape))\n",
    "    model.add(MaxPooling2D(pool_size=(2, 2)))\n",
    "    model.add(Flatten()) # Flattening the 2D arrays for fully connected layers\n",
    "    model.add(Dense(128, activation=tf.nn.relu))\n",
    "    model.add(Dropout(0.2))\n",
    "    model.add(Dense(num_classes, activation=tf.nn.softmax))\n",
    "    return model\n",
    "\n",
    "model = base_model(img_wh, img_wh, input_shape, num_classes)\n",
    "model.summary()\n",
    "\n",
    "optimizer = Adam(lr=0.001)"
   ]
  },
  {
   "cell_type": "code",
   "execution_count": null,
   "metadata": {},
   "outputs": [
    {
     "name": "stdout",
     "output_type": "stream",
     "text": [
      "WARNING:tensorflow:From /Users/dasm/venv/lib/python3.7/site-packages/tensorflow/python/ops/math_grad.py:1250: add_dispatch_support.<locals>.wrapper (from tensorflow.python.ops.array_ops) is deprecated and will be removed in a future version.\n",
      "Instructions for updating:\n",
      "Use tf.where in 2.0, which has the same broadcast rule as np.where\n",
      "WARNING:tensorflow:From /Users/dasm/venv/lib/python3.7/site-packages/keras/backend/tensorflow_backend.py:953: The name tf.assign_add is deprecated. Please use tf.compat.v1.assign_add instead.\n",
      "\n",
      "WARNING:tensorflow:From /Users/dasm/venv/lib/python3.7/site-packages/keras/backend/tensorflow_backend.py:675: calling Constant.__init__ (from tensorflow.python.ops.init_ops) with dtype is deprecated and will be removed in a future version.\n",
      "Instructions for updating:\n",
      "Call initializer instance with the dtype argument instead of passing it to the constructor\n"
     ]
    }
   ],
   "source": [
    "model.compile(optimizer=optimizer, loss='categorical_crossentropy', metrics=['accuracy'])\n",
    "plot_losses = TrainingPlot()\n",
    "history = model.fit(x_train, y_train, batch_size=128, epochs=3, verbose=False, validation_data=(x_test, y_test), callbacks=[plot_losses])\n",
    "# class_weight=class_weights"
   ]
  },
  {
   "cell_type": "code",
   "execution_count": null,
   "metadata": {},
   "outputs": [],
   "source": [
    "loss, accuracy  = model.evaluate(x_test, y_test, verbose=False)\n",
    "\n",
    "plt.plot(history.history['acc'])\n",
    "plt.plot(history.history['val_acc'])\n",
    "plt.title('model accuracy')\n",
    "plt.ylabel('accuracy')\n",
    "plt.xlabel('epoch')\n",
    "plt.legend(['training', 'validation'], loc='best')\n",
    "plt.show()\n",
    "\n",
    "print(f'Test loss: {loss:.3}')\n",
    "print(f'Test accuracy: {accuracy:.3}')"
   ]
  },
  {
   "cell_type": "code",
   "execution_count": null,
   "metadata": {},
   "outputs": [],
   "source": []
  }
 ],
 "metadata": {
  "kernelspec": {
   "display_name": "Python 3",
   "language": "python",
   "name": "python3"
  },
  "language_info": {
   "codemirror_mode": {
    "name": "ipython",
    "version": 3
   },
   "file_extension": ".py",
   "mimetype": "text/x-python",
   "name": "python",
   "nbconvert_exporter": "python",
   "pygments_lexer": "ipython3",
   "version": "3.7.6"
  }
 },
 "nbformat": 4,
 "nbformat_minor": 4
}
